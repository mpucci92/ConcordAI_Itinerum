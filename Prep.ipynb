{
 "cells": [
  {
   "cell_type": "code",
   "execution_count": null,
   "metadata": {},
   "outputs": [],
   "source": [
    "import pandas as pd\n",
    "import numpy as np\n",
    "import sys, os\n",
    "\n",
    "import matplotlib.pyplot as plt\n",
    "import json\n",
    "import joblib\n",
    "\n",
    "import geopandas as gdp\n",
    "\n",
    "from datetime import datetime, timedelta"
   ]
  },
  {
   "cell_type": "markdown",
   "metadata": {},
   "source": [
    "### Import Data"
   ]
  },
  {
   "cell_type": "raw",
   "metadata": {},
   "source": [
    "columns = []\n",
    "with open('Data/data2.txt', 'r') as file:\n",
    "    for line in file.read().split('\\n'):\n",
    "        columns.append(json.loads(line[:-1]))"
   ]
  },
  {
   "cell_type": "markdown",
   "metadata": {},
   "source": [
    "### Format data"
   ]
  },
  {
   "cell_type": "raw",
   "metadata": {},
   "source": [
    "columns[0]"
   ]
  },
  {
   "cell_type": "raw",
   "metadata": {},
   "source": [
    "def get_col(dict_):\n",
    "    dict_ = dict_['properties']\n",
    "    try:\n",
    "        col = [dict_['id_trip'], dict_['longitude'], dict_['latitude'], (dict_['longitude'], dict_['latitude']), dict_['speed'], dict_['altitude'] if 'altitude' in dict_ else np.nan,\n",
    "               dict_['h_accuracy'], dict_['v_accuracy'], dict_['timestamp']]\n",
    "    except Exception as e:\n",
    "        print(e)\n",
    "        print(dict_)\n",
    "    return col"
   ]
  },
  {
   "cell_type": "raw",
   "metadata": {},
   "source": [
    "features = [get_col(col) for col in columns]"
   ]
  },
  {
   "cell_type": "code",
   "execution_count": null,
   "metadata": {},
   "outputs": [],
   "source": [
    "features = np.load('more_data.npy')"
   ]
  },
  {
   "cell_type": "code",
   "execution_count": 3,
   "metadata": {},
   "outputs": [],
   "source": [
    "df = pd.DataFrame(features, columns=['ID', 'Longitude', 'Latitude', 'LL', 'Speed', 'Altitude', 'H_accuracy', 'V_accuracy', 'Timestamp'])"
   ]
  },
  {
   "cell_type": "code",
   "execution_count": 4,
   "metadata": {},
   "outputs": [],
   "source": [
    "df = df.sort_values(['ID', 'Timestamp'])"
   ]
  },
  {
   "cell_type": "code",
   "execution_count": 5,
   "metadata": {},
   "outputs": [],
   "source": [
    "df.Timestamp = df.Timestamp.str[:-3]"
   ]
  },
  {
   "cell_type": "markdown",
   "metadata": {},
   "source": [
    "### Time Difference"
   ]
  },
  {
   "cell_type": "code",
   "execution_count": 6,
   "metadata": {},
   "outputs": [],
   "source": [
    "df.Timestamp = pd.to_datetime(df.Timestamp)"
   ]
  },
  {
   "cell_type": "code",
   "execution_count": 11,
   "metadata": {},
   "outputs": [],
   "source": [
    "df['TimeDiff'] = df.Timestamp.diff().dt.seconds + 1"
   ]
  },
  {
   "cell_type": "code",
   "execution_count": 12,
   "metadata": {},
   "outputs": [],
   "source": [
    "df['SpeedDiff'] = df.Speed.diff()"
   ]
  },
  {
   "cell_type": "code",
   "execution_count": 13,
   "metadata": {},
   "outputs": [],
   "source": [
    "df['Acceleration'] = df.SpeedDiff / df.TimeDiff"
   ]
  },
  {
   "cell_type": "markdown",
   "metadata": {},
   "source": [
    "### Number of Unique Locations"
   ]
  },
  {
   "cell_type": "code",
   "execution_count": 15,
   "metadata": {},
   "outputs": [],
   "source": [
    "df.ID = df.ID.astype(int)"
   ]
  },
  {
   "cell_type": "code",
   "execution_count": 16,
   "metadata": {},
   "outputs": [],
   "source": [
    "x = (df.groupby('ID').LL.count() - df.groupby('ID').LL.nunique()).to_frame().reset_index()\n",
    "x.columns = ['ID', 'DuplicationLL']\n",
    "df = df.merge(x, on='ID', how='outer')"
   ]
  },
  {
   "cell_type": "markdown",
   "metadata": {},
   "source": [
    "### Time of day"
   ]
  },
  {
   "cell_type": "code",
   "execution_count": 17,
   "metadata": {},
   "outputs": [],
   "source": [
    "def rush_hours(x):\n",
    "    if x >= 11 and x <= 13:\n",
    "        return 'MR'\n",
    "    elif x >= 20 and x <= 22:\n",
    "        return 'NR'\n",
    "    else:\n",
    "        return 'S'"
   ]
  },
  {
   "cell_type": "code",
   "execution_count": 18,
   "metadata": {},
   "outputs": [],
   "source": [
    "df['Hour'] = df.Timestamp.dt.hour\n",
    "df['RushType'] = df.Timestamp.dt.hour.apply(rush_hours)"
   ]
  },
  {
   "cell_type": "code",
   "execution_count": 19,
   "metadata": {},
   "outputs": [
    {
     "data": {
      "text/plain": [
       "(Timestamp('2017-09-27 13:10:33'), Timestamp('2017-09-18 04:22:54'))"
      ]
     },
     "execution_count": 19,
     "metadata": {},
     "output_type": "execute_result"
    }
   ],
   "source": [
    "df.Timestamp.max(), df.Timestamp.min()"
   ]
  },
  {
   "cell_type": "markdown",
   "metadata": {},
   "source": [
    "### PublicTransit isClosed"
   ]
  },
  {
   "cell_type": "code",
   "execution_count": 20,
   "metadata": {},
   "outputs": [],
   "source": [
    "def public_transit_closed(x):\n",
    "    if x >= 5 and x <= 9:\n",
    "        return 1\n",
    "    else:\n",
    "        return 0"
   ]
  },
  {
   "cell_type": "code",
   "execution_count": 21,
   "metadata": {},
   "outputs": [],
   "source": [
    "df['PTClosed'] = df.Timestamp.dt.hour.apply(public_transit_closed)"
   ]
  },
  {
   "cell_type": "markdown",
   "metadata": {},
   "source": [
    "### Montreal Area"
   ]
  },
  {
   "cell_type": "code",
   "execution_count": 22,
   "metadata": {},
   "outputs": [],
   "source": [
    "from math import sin, cos, sqrt, atan2, radians\n",
    "\n",
    "def calculate_distance(lon1,lat1,lon2,lat2):\n",
    "    # approximate radius of earth in km\n",
    "    R = 6378.1\n",
    "\n",
    "    lat_rad1 = radians(lat1)\n",
    "    lon_rad1 = radians(lon1)\n",
    "    lat_rad2 = radians(lat2)\n",
    "    lon_rad2 = radians(lon2)\n",
    "\n",
    "    dlon = lon_rad2 - lon_rad1\n",
    "    dlat = lat_rad2 - lat_rad1\n",
    "\n",
    "    a = sin(dlat / 2)**2 + cos(lat_rad1) * cos(lat_rad2) * sin(dlon / 2)**2\n",
    "    c = 2 * atan2(sqrt(a), sqrt(1 - a))\n",
    "\n",
    "    distance = R * c\n",
    "\n",
    "    return distance"
   ]
  },
  {
   "cell_type": "code",
   "execution_count": 23,
   "metadata": {},
   "outputs": [],
   "source": [
    "cities = pd.read_csv('data/longlat.csv', header=None, names=['c1', 'c2', 'p1', 'p2'])"
   ]
  },
  {
   "cell_type": "code",
   "execution_count": 24,
   "metadata": {},
   "outputs": [],
   "source": [
    "dists = {}\n",
    "for index, row in zip(cities.index, cities.values):\n",
    "    c1, c2, p1, p2 = row\n",
    "    dist = calculate_distance(c1, c2, p1, p2)\n",
    "    dists[index[0].lower()] = dist"
   ]
  },
  {
   "cell_type": "code",
   "execution_count": 25,
   "metadata": {},
   "outputs": [],
   "source": [
    "centers = {}\n",
    "for index, row in zip(cities.index, cities.values):\n",
    "    c1, c2, _, _ = row\n",
    "    centers[index[0].lower()] = (c1, c2)"
   ]
  },
  {
   "cell_type": "code",
   "execution_count": 26,
   "metadata": {},
   "outputs": [
    {
     "data": {
      "text/plain": [
       "{'w': (45.458424, -73.837923),\n",
       " 'd': (45.486655, -73.581342),\n",
       " 'v': (45.527359000000004, -73.65242099999999),\n",
       " 'e': (45.62249, -73.551357)}"
      ]
     },
     "execution_count": 26,
     "metadata": {},
     "output_type": "execute_result"
    }
   ],
   "source": [
    "centers"
   ]
  },
  {
   "cell_type": "code",
   "execution_count": 27,
   "metadata": {},
   "outputs": [],
   "source": [
    "def location(x):\n",
    "    \n",
    "    dist_w = calculate_distance(x[1], x[0], centers['w'][0], centers['w'][1])\n",
    "    dist_d = calculate_distance(x[1], x[0], centers['d'][0], centers['d'][1])\n",
    "    dist_v = calculate_distance(x[1], x[0], centers['v'][0], centers['v'][1])\n",
    "    dist_e = calculate_distance(x[1], x[0], centers['e'][0], centers['e'][1])\n",
    "    \n",
    "    if dist_w <= dists['w']:\n",
    "        return 'w'\n",
    "    elif dist_d <= dists['d']:\n",
    "        return 'd'\n",
    "    elif dist_v <= dists['v']:\n",
    "        return 'v'\n",
    "    elif dist_e <= dists['e']:\n",
    "        return 'e'\n",
    "    else:\n",
    "        return 'n'"
   ]
  },
  {
   "cell_type": "code",
   "execution_count": 28,
   "metadata": {},
   "outputs": [],
   "source": [
    "data = []\n",
    "for ll in df.LL.values:\n",
    "    data.append(location(ll))\n",
    "df['City'] = data"
   ]
  },
  {
   "cell_type": "code",
   "execution_count": 29,
   "metadata": {},
   "outputs": [
    {
     "data": {
      "text/plain": [
       "d    757725\n",
       "v    510879\n",
       "n    273793\n",
       "e    263250\n",
       "w    194353\n",
       "Name: City, dtype: int64"
      ]
     },
     "execution_count": 29,
     "metadata": {},
     "output_type": "execute_result"
    }
   ],
   "source": [
    "df.City.value_counts()"
   ]
  },
  {
   "cell_type": "markdown",
   "metadata": {},
   "source": [
    "### Distance"
   ]
  },
  {
   "cell_type": "code",
   "execution_count": 30,
   "metadata": {},
   "outputs": [],
   "source": [
    "vals = [np.nan]\n",
    "for i in range(1, df.shape[0]):\n",
    "    \n",
    "    long1, lat1 = df.Longitude[i-1], df.Latitude[i-1]\n",
    "    long2, lat2 = df.Longitude[i], df.Latitude[i]\n",
    "    \n",
    "    vals.append(calculate_distance(long1, lat1, long2, lat2))\n",
    "\n",
    "df['Distance'] = vals"
   ]
  },
  {
   "cell_type": "code",
   "execution_count": 31,
   "metadata": {},
   "outputs": [
    {
     "data": {
      "text/html": [
       "<div>\n",
       "<style scoped>\n",
       "    .dataframe tbody tr th:only-of-type {\n",
       "        vertical-align: middle;\n",
       "    }\n",
       "\n",
       "    .dataframe tbody tr th {\n",
       "        vertical-align: top;\n",
       "    }\n",
       "\n",
       "    .dataframe thead th {\n",
       "        text-align: right;\n",
       "    }\n",
       "</style>\n",
       "<table border=\"1\" class=\"dataframe\">\n",
       "  <thead>\n",
       "    <tr style=\"text-align: right;\">\n",
       "      <th></th>\n",
       "      <th>ID</th>\n",
       "      <th>Longitude</th>\n",
       "      <th>Latitude</th>\n",
       "      <th>LL</th>\n",
       "      <th>Speed</th>\n",
       "      <th>Altitude</th>\n",
       "      <th>H_accuracy</th>\n",
       "      <th>V_accuracy</th>\n",
       "      <th>Timestamp</th>\n",
       "      <th>TimeDiff</th>\n",
       "      <th>SpeedDiff</th>\n",
       "      <th>Acceleration</th>\n",
       "      <th>DuplicationLL</th>\n",
       "      <th>Hour</th>\n",
       "      <th>RushType</th>\n",
       "      <th>PTClosed</th>\n",
       "      <th>City</th>\n",
       "      <th>Distance</th>\n",
       "    </tr>\n",
       "  </thead>\n",
       "  <tbody>\n",
       "    <tr>\n",
       "      <th>0</th>\n",
       "      <td>2</td>\n",
       "      <td>-73.4885</td>\n",
       "      <td>45.5483</td>\n",
       "      <td>(-73.488515, 45.548345)</td>\n",
       "      <td>15.2698</td>\n",
       "      <td>18.1288</td>\n",
       "      <td>8</td>\n",
       "      <td>3</td>\n",
       "      <td>2017-09-25 11:58:26</td>\n",
       "      <td>NaN</td>\n",
       "      <td>NaN</td>\n",
       "      <td>NaN</td>\n",
       "      <td>0</td>\n",
       "      <td>11</td>\n",
       "      <td>MR</td>\n",
       "      <td>0</td>\n",
       "      <td>n</td>\n",
       "      <td>NaN</td>\n",
       "    </tr>\n",
       "    <tr>\n",
       "      <th>1</th>\n",
       "      <td>2</td>\n",
       "      <td>-73.4891</td>\n",
       "      <td>45.548</td>\n",
       "      <td>(-73.489116, 45.547977)</td>\n",
       "      <td>15.4348</td>\n",
       "      <td>17.9746</td>\n",
       "      <td>8</td>\n",
       "      <td>3</td>\n",
       "      <td>2017-09-25 11:58:30</td>\n",
       "      <td>5.0</td>\n",
       "      <td>0.164996</td>\n",
       "      <td>0.0329992</td>\n",
       "      <td>0</td>\n",
       "      <td>11</td>\n",
       "      <td>MR</td>\n",
       "      <td>0</td>\n",
       "      <td>n</td>\n",
       "      <td>0.062236</td>\n",
       "    </tr>\n",
       "    <tr>\n",
       "      <th>2</th>\n",
       "      <td>2</td>\n",
       "      <td>-73.4897</td>\n",
       "      <td>45.5476</td>\n",
       "      <td>(-73.489714, 45.547606)</td>\n",
       "      <td>15.4219</td>\n",
       "      <td>18.3548</td>\n",
       "      <td>8</td>\n",
       "      <td>3</td>\n",
       "      <td>2017-09-25 11:58:34</td>\n",
       "      <td>5.0</td>\n",
       "      <td>-0.012937</td>\n",
       "      <td>-0.0025874</td>\n",
       "      <td>0</td>\n",
       "      <td>11</td>\n",
       "      <td>MR</td>\n",
       "      <td>0</td>\n",
       "      <td>n</td>\n",
       "      <td>0.062281</td>\n",
       "    </tr>\n",
       "    <tr>\n",
       "      <th>3</th>\n",
       "      <td>2</td>\n",
       "      <td>-73.4903</td>\n",
       "      <td>45.5472</td>\n",
       "      <td>(-73.490302, 45.547239)</td>\n",
       "      <td>15.1126</td>\n",
       "      <td>18.1281</td>\n",
       "      <td>8</td>\n",
       "      <td>3</td>\n",
       "      <td>2017-09-25 11:58:38</td>\n",
       "      <td>5.0</td>\n",
       "      <td>-0.309246</td>\n",
       "      <td>-0.0618492</td>\n",
       "      <td>0</td>\n",
       "      <td>11</td>\n",
       "      <td>MR</td>\n",
       "      <td>0</td>\n",
       "      <td>n</td>\n",
       "      <td>0.061403</td>\n",
       "    </tr>\n",
       "    <tr>\n",
       "      <th>4</th>\n",
       "      <td>2</td>\n",
       "      <td>-73.4909</td>\n",
       "      <td>45.5468</td>\n",
       "      <td>(-73.490863, 45.546836)</td>\n",
       "      <td>15.2363</td>\n",
       "      <td>17.973</td>\n",
       "      <td>6</td>\n",
       "      <td>3</td>\n",
       "      <td>2017-09-25 11:58:42</td>\n",
       "      <td>5.0</td>\n",
       "      <td>0.123711</td>\n",
       "      <td>0.0247422</td>\n",
       "      <td>0</td>\n",
       "      <td>11</td>\n",
       "      <td>MR</td>\n",
       "      <td>0</td>\n",
       "      <td>n</td>\n",
       "      <td>0.062652</td>\n",
       "    </tr>\n",
       "  </tbody>\n",
       "</table>\n",
       "</div>"
      ],
      "text/plain": [
       "   ID Longitude Latitude                       LL    Speed Altitude  \\\n",
       "0   2  -73.4885  45.5483  (-73.488515, 45.548345)  15.2698  18.1288   \n",
       "1   2  -73.4891   45.548  (-73.489116, 45.547977)  15.4348  17.9746   \n",
       "2   2  -73.4897  45.5476  (-73.489714, 45.547606)  15.4219  18.3548   \n",
       "3   2  -73.4903  45.5472  (-73.490302, 45.547239)  15.1126  18.1281   \n",
       "4   2  -73.4909  45.5468  (-73.490863, 45.546836)  15.2363   17.973   \n",
       "\n",
       "  H_accuracy V_accuracy           Timestamp  TimeDiff SpeedDiff Acceleration  \\\n",
       "0          8          3 2017-09-25 11:58:26       NaN       NaN          NaN   \n",
       "1          8          3 2017-09-25 11:58:30       5.0  0.164996    0.0329992   \n",
       "2          8          3 2017-09-25 11:58:34       5.0 -0.012937   -0.0025874   \n",
       "3          8          3 2017-09-25 11:58:38       5.0 -0.309246   -0.0618492   \n",
       "4          6          3 2017-09-25 11:58:42       5.0  0.123711    0.0247422   \n",
       "\n",
       "   DuplicationLL  Hour RushType  PTClosed City  Distance  \n",
       "0              0    11       MR         0    n       NaN  \n",
       "1              0    11       MR         0    n  0.062236  \n",
       "2              0    11       MR         0    n  0.062281  \n",
       "3              0    11       MR         0    n  0.061403  \n",
       "4              0    11       MR         0    n  0.062652  "
      ]
     },
     "execution_count": 31,
     "metadata": {},
     "output_type": "execute_result"
    }
   ],
   "source": [
    "df.head()"
   ]
  },
  {
   "cell_type": "markdown",
   "metadata": {},
   "source": [
    "### Bixie"
   ]
  },
  {
   "cell_type": "code",
   "execution_count": 32,
   "metadata": {},
   "outputs": [],
   "source": [
    "bixie = pd.read_csv('data/Stations_2017.csv')"
   ]
  },
  {
   "cell_type": "code",
   "execution_count": 33,
   "metadata": {},
   "outputs": [
    {
     "data": {
      "text/html": [
       "<div>\n",
       "<style scoped>\n",
       "    .dataframe tbody tr th:only-of-type {\n",
       "        vertical-align: middle;\n",
       "    }\n",
       "\n",
       "    .dataframe tbody tr th {\n",
       "        vertical-align: top;\n",
       "    }\n",
       "\n",
       "    .dataframe thead th {\n",
       "        text-align: right;\n",
       "    }\n",
       "</style>\n",
       "<table border=\"1\" class=\"dataframe\">\n",
       "  <thead>\n",
       "    <tr style=\"text-align: right;\">\n",
       "      <th></th>\n",
       "      <th>code</th>\n",
       "      <th>name</th>\n",
       "      <th>latitude</th>\n",
       "      <th>longitude</th>\n",
       "      <th>Unnamed: 4</th>\n",
       "      <th>Unnamed: 5</th>\n",
       "    </tr>\n",
       "  </thead>\n",
       "  <tbody>\n",
       "    <tr>\n",
       "      <th>0</th>\n",
       "      <td>7015</td>\n",
       "      <td>LaSalle / 4e avenue</td>\n",
       "      <td>45.430740</td>\n",
       "      <td>-73.591911</td>\n",
       "      <td>NaN</td>\n",
       "      <td>NaN</td>\n",
       "    </tr>\n",
       "    <tr>\n",
       "      <th>1</th>\n",
       "      <td>6714</td>\n",
       "      <td>LaSalle / Senecal</td>\n",
       "      <td>45.434434</td>\n",
       "      <td>-73.586694</td>\n",
       "      <td>NaN</td>\n",
       "      <td>NaN</td>\n",
       "    </tr>\n",
       "    <tr>\n",
       "      <th>2</th>\n",
       "      <td>6712</td>\n",
       "      <td>LaSalle / Crawford</td>\n",
       "      <td>45.437914</td>\n",
       "      <td>-73.582740</td>\n",
       "      <td>NaN</td>\n",
       "      <td>NaN</td>\n",
       "    </tr>\n",
       "    <tr>\n",
       "      <th>3</th>\n",
       "      <td>6715</td>\n",
       "      <td>Natatorium (LaSalle / Rolland)</td>\n",
       "      <td>45.444408</td>\n",
       "      <td>-73.575568</td>\n",
       "      <td>NaN</td>\n",
       "      <td>NaN</td>\n",
       "    </tr>\n",
       "    <tr>\n",
       "      <th>4</th>\n",
       "      <td>7048</td>\n",
       "      <td>Metro Angrignon</td>\n",
       "      <td>45.446534</td>\n",
       "      <td>-73.603541</td>\n",
       "      <td>NaN</td>\n",
       "      <td>NaN</td>\n",
       "    </tr>\n",
       "  </tbody>\n",
       "</table>\n",
       "</div>"
      ],
      "text/plain": [
       "   code                            name   latitude  longitude  Unnamed: 4  \\\n",
       "0  7015             LaSalle / 4e avenue  45.430740 -73.591911         NaN   \n",
       "1  6714               LaSalle / Senecal  45.434434 -73.586694         NaN   \n",
       "2  6712              LaSalle / Crawford  45.437914 -73.582740         NaN   \n",
       "3  6715  Natatorium (LaSalle / Rolland)  45.444408 -73.575568         NaN   \n",
       "4  7048                 Metro Angrignon  45.446534 -73.603541         NaN   \n",
       "\n",
       "   Unnamed: 5  \n",
       "0         NaN  \n",
       "1         NaN  \n",
       "2         NaN  \n",
       "3         NaN  \n",
       "4         NaN  "
      ]
     },
     "execution_count": 33,
     "metadata": {},
     "output_type": "execute_result"
    }
   ],
   "source": [
    "bixie.head()"
   ]
  },
  {
   "cell_type": "code",
   "execution_count": 34,
   "metadata": {},
   "outputs": [],
   "source": [
    "start_end = df.groupby('ID').apply(lambda x: (x['LL'].values[0], x['LL'].values[-1])).to_frame().reset_index()\n",
    "start_end.columns = ['ID', 'Coords']"
   ]
  },
  {
   "cell_type": "code",
   "execution_count": 35,
   "metadata": {},
   "outputs": [
    {
     "data": {
      "text/html": [
       "<div>\n",
       "<style scoped>\n",
       "    .dataframe tbody tr th:only-of-type {\n",
       "        vertical-align: middle;\n",
       "    }\n",
       "\n",
       "    .dataframe tbody tr th {\n",
       "        vertical-align: top;\n",
       "    }\n",
       "\n",
       "    .dataframe thead th {\n",
       "        text-align: right;\n",
       "    }\n",
       "</style>\n",
       "<table border=\"1\" class=\"dataframe\">\n",
       "  <thead>\n",
       "    <tr style=\"text-align: right;\">\n",
       "      <th></th>\n",
       "      <th>ID</th>\n",
       "      <th>Coords</th>\n",
       "    </tr>\n",
       "  </thead>\n",
       "  <tbody>\n",
       "    <tr>\n",
       "      <th>0</th>\n",
       "      <td>2</td>\n",
       "      <td>((-73.488515, 45.548345), (-73.657023, 45.5501...</td>\n",
       "    </tr>\n",
       "    <tr>\n",
       "      <th>1</th>\n",
       "      <td>19</td>\n",
       "      <td>((-73.5201157013, 45.518476039), (-73.52241618...</td>\n",
       "    </tr>\n",
       "    <tr>\n",
       "      <th>2</th>\n",
       "      <td>21</td>\n",
       "      <td>((-73.640386, 45.550466), (-73.63895, 45.548075))</td>\n",
       "    </tr>\n",
       "    <tr>\n",
       "      <th>3</th>\n",
       "      <td>33</td>\n",
       "      <td>((-73.547435, 45.547262), (-73.55212, 45.545844))</td>\n",
       "    </tr>\n",
       "    <tr>\n",
       "      <th>4</th>\n",
       "      <td>42</td>\n",
       "      <td>((-73.603671, 45.546534), (-73.672126, 45.5473...</td>\n",
       "    </tr>\n",
       "  </tbody>\n",
       "</table>\n",
       "</div>"
      ],
      "text/plain": [
       "   ID                                             Coords\n",
       "0   2  ((-73.488515, 45.548345), (-73.657023, 45.5501...\n",
       "1  19  ((-73.5201157013, 45.518476039), (-73.52241618...\n",
       "2  21  ((-73.640386, 45.550466), (-73.63895, 45.548075))\n",
       "3  33  ((-73.547435, 45.547262), (-73.55212, 45.545844))\n",
       "4  42  ((-73.603671, 45.546534), (-73.672126, 45.5473..."
      ]
     },
     "execution_count": 35,
     "metadata": {},
     "output_type": "execute_result"
    }
   ],
   "source": [
    "start_end.head()"
   ]
  },
  {
   "cell_type": "code",
   "execution_count": 36,
   "metadata": {},
   "outputs": [],
   "source": [
    "results = []\n",
    "\n",
    "for id_, coords in start_end.values:\n",
    "    start = coords[0]\n",
    "    end = coords[1]\n",
    "    status = False\n",
    "    \n",
    "    for lat, long in zip(bixie.latitude, bixie.longitude):\n",
    "        \n",
    "        long1 = start[0]\n",
    "        lat1 = start[1]\n",
    "        \n",
    "        start_dist = calculate_distance(long1, lat1, long, lat)\n",
    "        \n",
    "        long2 = end[0]\n",
    "        lat2 = end[1]\n",
    "        \n",
    "        end_dist = calculate_distance(long2, lat2, long, lat)\n",
    "        \n",
    "        if start_dist <= 0.15 and end_dist <= 0.15:\n",
    "            results.append([id_, 'bixie'])\n",
    "            status = True\n",
    "            break\n",
    "            \n",
    "    if not status:\n",
    "        results.append([id_, 'no_bixie'])"
   ]
  },
  {
   "cell_type": "code",
   "execution_count": 37,
   "metadata": {},
   "outputs": [],
   "source": [
    "bixies = pd.DataFrame(results, columns=['ID', 'Bixies'])"
   ]
  },
  {
   "cell_type": "code",
   "execution_count": 38,
   "metadata": {},
   "outputs": [],
   "source": [
    "df = df.merge(bixies, on='ID', how='outer')"
   ]
  },
  {
   "cell_type": "code",
   "execution_count": 39,
   "metadata": {},
   "outputs": [
    {
     "data": {
      "text/html": [
       "<div>\n",
       "<style scoped>\n",
       "    .dataframe tbody tr th:only-of-type {\n",
       "        vertical-align: middle;\n",
       "    }\n",
       "\n",
       "    .dataframe tbody tr th {\n",
       "        vertical-align: top;\n",
       "    }\n",
       "\n",
       "    .dataframe thead th {\n",
       "        text-align: right;\n",
       "    }\n",
       "</style>\n",
       "<table border=\"1\" class=\"dataframe\">\n",
       "  <thead>\n",
       "    <tr style=\"text-align: right;\">\n",
       "      <th></th>\n",
       "      <th>ID</th>\n",
       "      <th>Longitude</th>\n",
       "      <th>Latitude</th>\n",
       "      <th>LL</th>\n",
       "      <th>Speed</th>\n",
       "      <th>Altitude</th>\n",
       "      <th>H_accuracy</th>\n",
       "      <th>V_accuracy</th>\n",
       "      <th>Timestamp</th>\n",
       "      <th>TimeDiff</th>\n",
       "      <th>SpeedDiff</th>\n",
       "      <th>Acceleration</th>\n",
       "      <th>DuplicationLL</th>\n",
       "      <th>Hour</th>\n",
       "      <th>RushType</th>\n",
       "      <th>PTClosed</th>\n",
       "      <th>City</th>\n",
       "      <th>Distance</th>\n",
       "      <th>Bixies</th>\n",
       "    </tr>\n",
       "  </thead>\n",
       "  <tbody>\n",
       "    <tr>\n",
       "      <th>0</th>\n",
       "      <td>2</td>\n",
       "      <td>-73.4885</td>\n",
       "      <td>45.5483</td>\n",
       "      <td>(-73.488515, 45.548345)</td>\n",
       "      <td>15.2698</td>\n",
       "      <td>18.1288</td>\n",
       "      <td>8</td>\n",
       "      <td>3</td>\n",
       "      <td>2017-09-25 11:58:26</td>\n",
       "      <td>NaN</td>\n",
       "      <td>NaN</td>\n",
       "      <td>NaN</td>\n",
       "      <td>0</td>\n",
       "      <td>11</td>\n",
       "      <td>MR</td>\n",
       "      <td>0</td>\n",
       "      <td>n</td>\n",
       "      <td>NaN</td>\n",
       "      <td>no_bixie</td>\n",
       "    </tr>\n",
       "    <tr>\n",
       "      <th>1</th>\n",
       "      <td>2</td>\n",
       "      <td>-73.4891</td>\n",
       "      <td>45.548</td>\n",
       "      <td>(-73.489116, 45.547977)</td>\n",
       "      <td>15.4348</td>\n",
       "      <td>17.9746</td>\n",
       "      <td>8</td>\n",
       "      <td>3</td>\n",
       "      <td>2017-09-25 11:58:30</td>\n",
       "      <td>5.0</td>\n",
       "      <td>0.164996</td>\n",
       "      <td>0.0329992</td>\n",
       "      <td>0</td>\n",
       "      <td>11</td>\n",
       "      <td>MR</td>\n",
       "      <td>0</td>\n",
       "      <td>n</td>\n",
       "      <td>0.062236</td>\n",
       "      <td>no_bixie</td>\n",
       "    </tr>\n",
       "    <tr>\n",
       "      <th>2</th>\n",
       "      <td>2</td>\n",
       "      <td>-73.4897</td>\n",
       "      <td>45.5476</td>\n",
       "      <td>(-73.489714, 45.547606)</td>\n",
       "      <td>15.4219</td>\n",
       "      <td>18.3548</td>\n",
       "      <td>8</td>\n",
       "      <td>3</td>\n",
       "      <td>2017-09-25 11:58:34</td>\n",
       "      <td>5.0</td>\n",
       "      <td>-0.012937</td>\n",
       "      <td>-0.0025874</td>\n",
       "      <td>0</td>\n",
       "      <td>11</td>\n",
       "      <td>MR</td>\n",
       "      <td>0</td>\n",
       "      <td>n</td>\n",
       "      <td>0.062281</td>\n",
       "      <td>no_bixie</td>\n",
       "    </tr>\n",
       "    <tr>\n",
       "      <th>3</th>\n",
       "      <td>2</td>\n",
       "      <td>-73.4903</td>\n",
       "      <td>45.5472</td>\n",
       "      <td>(-73.490302, 45.547239)</td>\n",
       "      <td>15.1126</td>\n",
       "      <td>18.1281</td>\n",
       "      <td>8</td>\n",
       "      <td>3</td>\n",
       "      <td>2017-09-25 11:58:38</td>\n",
       "      <td>5.0</td>\n",
       "      <td>-0.309246</td>\n",
       "      <td>-0.0618492</td>\n",
       "      <td>0</td>\n",
       "      <td>11</td>\n",
       "      <td>MR</td>\n",
       "      <td>0</td>\n",
       "      <td>n</td>\n",
       "      <td>0.061403</td>\n",
       "      <td>no_bixie</td>\n",
       "    </tr>\n",
       "    <tr>\n",
       "      <th>4</th>\n",
       "      <td>2</td>\n",
       "      <td>-73.4909</td>\n",
       "      <td>45.5468</td>\n",
       "      <td>(-73.490863, 45.546836)</td>\n",
       "      <td>15.2363</td>\n",
       "      <td>17.973</td>\n",
       "      <td>6</td>\n",
       "      <td>3</td>\n",
       "      <td>2017-09-25 11:58:42</td>\n",
       "      <td>5.0</td>\n",
       "      <td>0.123711</td>\n",
       "      <td>0.0247422</td>\n",
       "      <td>0</td>\n",
       "      <td>11</td>\n",
       "      <td>MR</td>\n",
       "      <td>0</td>\n",
       "      <td>n</td>\n",
       "      <td>0.062652</td>\n",
       "      <td>no_bixie</td>\n",
       "    </tr>\n",
       "  </tbody>\n",
       "</table>\n",
       "</div>"
      ],
      "text/plain": [
       "   ID Longitude Latitude                       LL    Speed Altitude  \\\n",
       "0   2  -73.4885  45.5483  (-73.488515, 45.548345)  15.2698  18.1288   \n",
       "1   2  -73.4891   45.548  (-73.489116, 45.547977)  15.4348  17.9746   \n",
       "2   2  -73.4897  45.5476  (-73.489714, 45.547606)  15.4219  18.3548   \n",
       "3   2  -73.4903  45.5472  (-73.490302, 45.547239)  15.1126  18.1281   \n",
       "4   2  -73.4909  45.5468  (-73.490863, 45.546836)  15.2363   17.973   \n",
       "\n",
       "  H_accuracy V_accuracy           Timestamp  TimeDiff SpeedDiff Acceleration  \\\n",
       "0          8          3 2017-09-25 11:58:26       NaN       NaN          NaN   \n",
       "1          8          3 2017-09-25 11:58:30       5.0  0.164996    0.0329992   \n",
       "2          8          3 2017-09-25 11:58:34       5.0 -0.012937   -0.0025874   \n",
       "3          8          3 2017-09-25 11:58:38       5.0 -0.309246   -0.0618492   \n",
       "4          6          3 2017-09-25 11:58:42       5.0  0.123711    0.0247422   \n",
       "\n",
       "   DuplicationLL  Hour RushType  PTClosed City  Distance    Bixies  \n",
       "0              0    11       MR         0    n       NaN  no_bixie  \n",
       "1              0    11       MR         0    n  0.062236  no_bixie  \n",
       "2              0    11       MR         0    n  0.062281  no_bixie  \n",
       "3              0    11       MR         0    n  0.061403  no_bixie  \n",
       "4              0    11       MR         0    n  0.062652  no_bixie  "
      ]
     },
     "execution_count": 39,
     "metadata": {},
     "output_type": "execute_result"
    }
   ],
   "source": [
    "df.head()"
   ]
  },
  {
   "cell_type": "markdown",
   "metadata": {},
   "source": [
    "### Weekday"
   ]
  },
  {
   "cell_type": "code",
   "execution_count": 40,
   "metadata": {},
   "outputs": [],
   "source": [
    "df['Weekends'] = df.Timestamp.dt.day_name()"
   ]
  },
  {
   "cell_type": "code",
   "execution_count": 41,
   "metadata": {},
   "outputs": [],
   "source": [
    "df.Weekends = df.Weekends.replace(to_replace=['Saturday', 'Sunday'], value=1)"
   ]
  },
  {
   "cell_type": "code",
   "execution_count": 42,
   "metadata": {},
   "outputs": [],
   "source": [
    "df.Weekends = df.Weekends.replace(to_replace=['Monday', 'Tuesday', 'Wednesday', 'Thursday', 'Friday'], value=0)"
   ]
  },
  {
   "cell_type": "code",
   "execution_count": 43,
   "metadata": {},
   "outputs": [
    {
     "data": {
      "text/plain": [
       "0    1574858\n",
       "1     425142\n",
       "Name: Weekends, dtype: int64"
      ]
     },
     "execution_count": 43,
     "metadata": {},
     "output_type": "execute_result"
    }
   ],
   "source": [
    "df.Weekends.value_counts()"
   ]
  },
  {
   "cell_type": "markdown",
   "metadata": {},
   "source": [
    "### Time of Day"
   ]
  },
  {
   "cell_type": "code",
   "execution_count": 44,
   "metadata": {},
   "outputs": [],
   "source": [
    "def time_of_day(x):\n",
    "    if x >= 10 and x < 15:\n",
    "        return 'morning'\n",
    "    elif x >= 15 and x < 17:\n",
    "        return 'lucnch'\n",
    "    elif x >= 17 and x < 21:\n",
    "        return 'afternoon'\n",
    "    elif x >= 21 and x <= 23:\n",
    "        return 'evening'\n",
    "    elif x >= 0 and x < 10:\n",
    "        return 'night'\n",
    "    else:\n",
    "        return np.nan"
   ]
  },
  {
   "cell_type": "code",
   "execution_count": 45,
   "metadata": {},
   "outputs": [],
   "source": [
    "df['TimeOfDay'] = df.Hour.apply(time_of_day)"
   ]
  },
  {
   "cell_type": "markdown",
   "metadata": {},
   "source": [
    "### Features"
   ]
  },
  {
   "cell_type": "code",
   "execution_count": 63,
   "metadata": {},
   "outputs": [],
   "source": [
    "def pct(x):\n",
    "    return np.quantile(x, 0.75)"
   ]
  },
  {
   "cell_type": "code",
   "execution_count": 64,
   "metadata": {},
   "outputs": [],
   "source": [
    "df.ID = df.ID.astype(int)"
   ]
  },
  {
   "cell_type": "code",
   "execution_count": 67,
   "metadata": {},
   "outputs": [],
   "source": [
    "df.Speed = df.Speed.astype(float)"
   ]
  },
  {
   "cell_type": "code",
   "execution_count": 68,
   "metadata": {},
   "outputs": [],
   "source": [
    "temp = df.groupby('ID').agg({\n",
    "    'Speed' : [\n",
    "        ('SpeedPct', pct),\n",
    "        ('MaxSpeed', 'max'),\n",
    "        ('STDSpeed', 'std'),\n",
    "        ('MeanSpeed', 'mean')\n",
    "    ],\n",
    "    'DuplicationLL' : ['first'],\n",
    "    'Bixies' : ['first'],\n",
    "    'Weekends' : ['first'],\n",
    "    'RushType' : ['first'],\n",
    "    'PTClosed' : ['first'],\n",
    "    'City' : ['first']\n",
    "})"
   ]
  },
  {
   "cell_type": "code",
   "execution_count": 69,
   "metadata": {},
   "outputs": [],
   "source": [
    "def pct(x):\n",
    "    if len(x) <= 1:\n",
    "        return 0\n",
    "    else:\n",
    "        return np.quantile(x[1:], 0.75)"
   ]
  },
  {
   "cell_type": "code",
   "execution_count": 70,
   "metadata": {},
   "outputs": [],
   "source": [
    "temp['AccelPct'] = df.groupby('ID').apply(lambda x: pct(x['Acceleration'].values))"
   ]
  },
  {
   "cell_type": "code",
   "execution_count": 71,
   "metadata": {},
   "outputs": [],
   "source": [
    "def max_(x):\n",
    "    if len(x) <= 1:\n",
    "        return 0\n",
    "    else:\n",
    "        return max(x[1:])"
   ]
  },
  {
   "cell_type": "code",
   "execution_count": 72,
   "metadata": {},
   "outputs": [],
   "source": [
    "temp['MaxAccel'] = df.groupby('ID').apply(lambda x: max_(x['Acceleration'].values))"
   ]
  },
  {
   "cell_type": "code",
   "execution_count": 73,
   "metadata": {},
   "outputs": [],
   "source": [
    "def STD(x):\n",
    "    if len(x) <= 1:\n",
    "        return 0\n",
    "    else:\n",
    "        return np.std(x[1:])"
   ]
  },
  {
   "cell_type": "code",
   "execution_count": 74,
   "metadata": {},
   "outputs": [],
   "source": [
    "temp['STDAccel'] = df.groupby('ID').apply(lambda x: STD(x['Acceleration'].values))"
   ]
  },
  {
   "cell_type": "code",
   "execution_count": 75,
   "metadata": {},
   "outputs": [],
   "source": [
    "def mean(x):\n",
    "    if len(x) <= 1:\n",
    "        return 0\n",
    "    else:\n",
    "        return np.mean(x[1:])"
   ]
  },
  {
   "cell_type": "code",
   "execution_count": 76,
   "metadata": {},
   "outputs": [],
   "source": [
    "temp['MeanAccel'] = df.groupby('ID').apply(lambda x: mean(x['Acceleration'].values))"
   ]
  },
  {
   "cell_type": "code",
   "execution_count": 77,
   "metadata": {},
   "outputs": [],
   "source": [
    "def distance(x):\n",
    "    if len(x) <= 1:\n",
    "        return 0\n",
    "    else:\n",
    "        return np.sum(x[1:])"
   ]
  },
  {
   "cell_type": "code",
   "execution_count": 78,
   "metadata": {},
   "outputs": [],
   "source": [
    "temp['TotalDistance'] = df.groupby('ID').apply(lambda x: distance(x['Distance'].values))"
   ]
  },
  {
   "cell_type": "markdown",
   "metadata": {},
   "source": [
    "### Rename Columns"
   ]
  },
  {
   "cell_type": "code",
   "execution_count": 79,
   "metadata": {},
   "outputs": [
    {
     "data": {
      "text/html": [
       "<div>\n",
       "<style scoped>\n",
       "    .dataframe tbody tr th:only-of-type {\n",
       "        vertical-align: middle;\n",
       "    }\n",
       "\n",
       "    .dataframe tbody tr th {\n",
       "        vertical-align: top;\n",
       "    }\n",
       "\n",
       "    .dataframe thead tr th {\n",
       "        text-align: left;\n",
       "    }\n",
       "\n",
       "    .dataframe thead tr:last-of-type th {\n",
       "        text-align: right;\n",
       "    }\n",
       "</style>\n",
       "<table border=\"1\" class=\"dataframe\">\n",
       "  <thead>\n",
       "    <tr>\n",
       "      <th></th>\n",
       "      <th colspan=\"4\" halign=\"left\">Speed</th>\n",
       "      <th>DuplicationLL</th>\n",
       "      <th>Bixies</th>\n",
       "      <th>Weekends</th>\n",
       "      <th>RushType</th>\n",
       "      <th>PTClosed</th>\n",
       "      <th>City</th>\n",
       "      <th>AccelPct</th>\n",
       "      <th>MaxAccel</th>\n",
       "      <th>STDAccel</th>\n",
       "      <th>MeanAccel</th>\n",
       "      <th>TotalDistance</th>\n",
       "    </tr>\n",
       "    <tr>\n",
       "      <th></th>\n",
       "      <th>SpeedPct</th>\n",
       "      <th>MaxSpeed</th>\n",
       "      <th>STDSpeed</th>\n",
       "      <th>MeanSpeed</th>\n",
       "      <th>first</th>\n",
       "      <th>first</th>\n",
       "      <th>first</th>\n",
       "      <th>first</th>\n",
       "      <th>first</th>\n",
       "      <th>first</th>\n",
       "      <th></th>\n",
       "      <th></th>\n",
       "      <th></th>\n",
       "      <th></th>\n",
       "      <th></th>\n",
       "    </tr>\n",
       "    <tr>\n",
       "      <th>ID</th>\n",
       "      <th></th>\n",
       "      <th></th>\n",
       "      <th></th>\n",
       "      <th></th>\n",
       "      <th></th>\n",
       "      <th></th>\n",
       "      <th></th>\n",
       "      <th></th>\n",
       "      <th></th>\n",
       "      <th></th>\n",
       "      <th></th>\n",
       "      <th></th>\n",
       "      <th></th>\n",
       "      <th></th>\n",
       "      <th></th>\n",
       "    </tr>\n",
       "  </thead>\n",
       "  <tbody>\n",
       "    <tr>\n",
       "      <th>2</th>\n",
       "      <td>13.179920</td>\n",
       "      <td>15.839291</td>\n",
       "      <td>5.095632</td>\n",
       "      <td>8.238649</td>\n",
       "      <td>0</td>\n",
       "      <td>no_bixie</td>\n",
       "      <td>0</td>\n",
       "      <td>MR</td>\n",
       "      <td>0</td>\n",
       "      <td>n</td>\n",
       "      <td>0.094517</td>\n",
       "      <td>1.276043</td>\n",
       "      <td>0.365253</td>\n",
       "      <td>-0.027733</td>\n",
       "      <td>16.385114</td>\n",
       "    </tr>\n",
       "    <tr>\n",
       "      <th>19</th>\n",
       "      <td>1.208492</td>\n",
       "      <td>1.281362</td>\n",
       "      <td>0.068257</td>\n",
       "      <td>1.163145</td>\n",
       "      <td>0</td>\n",
       "      <td>no_bixie</td>\n",
       "      <td>0</td>\n",
       "      <td>S</td>\n",
       "      <td>0</td>\n",
       "      <td>e</td>\n",
       "      <td>0.001626</td>\n",
       "      <td>0.003101</td>\n",
       "      <td>0.002170</td>\n",
       "      <td>-0.000126</td>\n",
       "      <td>0.367817</td>\n",
       "    </tr>\n",
       "    <tr>\n",
       "      <th>21</th>\n",
       "      <td>1.670000</td>\n",
       "      <td>1.730000</td>\n",
       "      <td>0.145153</td>\n",
       "      <td>1.514667</td>\n",
       "      <td>0</td>\n",
       "      <td>no_bixie</td>\n",
       "      <td>0</td>\n",
       "      <td>NR</td>\n",
       "      <td>0</td>\n",
       "      <td>v</td>\n",
       "      <td>0.008554</td>\n",
       "      <td>0.020000</td>\n",
       "      <td>0.011845</td>\n",
       "      <td>0.000317</td>\n",
       "      <td>0.358114</td>\n",
       "    </tr>\n",
       "    <tr>\n",
       "      <th>33</th>\n",
       "      <td>1.612500</td>\n",
       "      <td>2.800000</td>\n",
       "      <td>0.447859</td>\n",
       "      <td>1.408182</td>\n",
       "      <td>0</td>\n",
       "      <td>no_bixie</td>\n",
       "      <td>0</td>\n",
       "      <td>S</td>\n",
       "      <td>0</td>\n",
       "      <td>e</td>\n",
       "      <td>0.009048</td>\n",
       "      <td>0.069412</td>\n",
       "      <td>0.022370</td>\n",
       "      <td>0.003218</td>\n",
       "      <td>0.537895</td>\n",
       "    </tr>\n",
       "    <tr>\n",
       "      <th>42</th>\n",
       "      <td>5.750000</td>\n",
       "      <td>8.110000</td>\n",
       "      <td>1.419051</td>\n",
       "      <td>4.909139</td>\n",
       "      <td>0</td>\n",
       "      <td>no_bixie</td>\n",
       "      <td>1</td>\n",
       "      <td>S</td>\n",
       "      <td>0</td>\n",
       "      <td>d</td>\n",
       "      <td>0.069643</td>\n",
       "      <td>0.488889</td>\n",
       "      <td>0.128816</td>\n",
       "      <td>0.006298</td>\n",
       "      <td>7.524767</td>\n",
       "    </tr>\n",
       "  </tbody>\n",
       "</table>\n",
       "</div>"
      ],
      "text/plain": [
       "        Speed                                DuplicationLL    Bixies Weekends  \\\n",
       "     SpeedPct   MaxSpeed  STDSpeed MeanSpeed         first     first    first   \n",
       "ID                                                                              \n",
       "2   13.179920  15.839291  5.095632  8.238649             0  no_bixie        0   \n",
       "19   1.208492   1.281362  0.068257  1.163145             0  no_bixie        0   \n",
       "21   1.670000   1.730000  0.145153  1.514667             0  no_bixie        0   \n",
       "33   1.612500   2.800000  0.447859  1.408182             0  no_bixie        0   \n",
       "42   5.750000   8.110000  1.419051  4.909139             0  no_bixie        1   \n",
       "\n",
       "   RushType PTClosed  City  AccelPct  MaxAccel  STDAccel MeanAccel  \\\n",
       "      first    first first                                           \n",
       "ID                                                                   \n",
       "2        MR        0     n  0.094517  1.276043  0.365253 -0.027733   \n",
       "19        S        0     e  0.001626  0.003101  0.002170 -0.000126   \n",
       "21       NR        0     v  0.008554  0.020000  0.011845  0.000317   \n",
       "33        S        0     e  0.009048  0.069412  0.022370  0.003218   \n",
       "42        S        0     d  0.069643  0.488889  0.128816  0.006298   \n",
       "\n",
       "   TotalDistance  \n",
       "                  \n",
       "ID                \n",
       "2      16.385114  \n",
       "19      0.367817  \n",
       "21      0.358114  \n",
       "33      0.537895  \n",
       "42      7.524767  "
      ]
     },
     "execution_count": 79,
     "metadata": {},
     "output_type": "execute_result"
    }
   ],
   "source": [
    "temp.head()"
   ]
  },
  {
   "cell_type": "code",
   "execution_count": 80,
   "metadata": {},
   "outputs": [],
   "source": [
    "temp.columns = ['SpeedPct', 'MaxSpeed', 'STDSpeed', 'MeanSpeed', 'DuplcateLL', 'Bixies', 'isWeekend', 'RushType', 'PTClosed', 'City', 'AccelPct', 'MaxAccel', 'STDAccel', 'MeanAccel', 'TotalDistance']"
   ]
  },
  {
   "cell_type": "code",
   "execution_count": 81,
   "metadata": {},
   "outputs": [
    {
     "data": {
      "text/plain": [
       "Index(['SpeedPct', 'MaxSpeed', 'STDSpeed', 'MeanSpeed', 'DuplcateLL', 'Bixies',\n",
       "       'isWeekend', 'RushType', 'PTClosed', 'City', 'AccelPct', 'MaxAccel',\n",
       "       'STDAccel', 'MeanAccel', 'TotalDistance'],\n",
       "      dtype='object')"
      ]
     },
     "execution_count": 81,
     "metadata": {},
     "output_type": "execute_result"
    }
   ],
   "source": [
    "temp.columns"
   ]
  },
  {
   "cell_type": "code",
   "execution_count": 82,
   "metadata": {},
   "outputs": [
    {
     "data": {
      "text/html": [
       "<div>\n",
       "<style scoped>\n",
       "    .dataframe tbody tr th:only-of-type {\n",
       "        vertical-align: middle;\n",
       "    }\n",
       "\n",
       "    .dataframe tbody tr th {\n",
       "        vertical-align: top;\n",
       "    }\n",
       "\n",
       "    .dataframe thead th {\n",
       "        text-align: right;\n",
       "    }\n",
       "</style>\n",
       "<table border=\"1\" class=\"dataframe\">\n",
       "  <thead>\n",
       "    <tr style=\"text-align: right;\">\n",
       "      <th></th>\n",
       "      <th>SpeedPct</th>\n",
       "      <th>MaxSpeed</th>\n",
       "      <th>STDSpeed</th>\n",
       "      <th>MeanSpeed</th>\n",
       "      <th>DuplcateLL</th>\n",
       "      <th>Bixies</th>\n",
       "      <th>isWeekend</th>\n",
       "      <th>RushType</th>\n",
       "      <th>PTClosed</th>\n",
       "      <th>City</th>\n",
       "      <th>AccelPct</th>\n",
       "      <th>MaxAccel</th>\n",
       "      <th>STDAccel</th>\n",
       "      <th>MeanAccel</th>\n",
       "      <th>TotalDistance</th>\n",
       "    </tr>\n",
       "    <tr>\n",
       "      <th>ID</th>\n",
       "      <th></th>\n",
       "      <th></th>\n",
       "      <th></th>\n",
       "      <th></th>\n",
       "      <th></th>\n",
       "      <th></th>\n",
       "      <th></th>\n",
       "      <th></th>\n",
       "      <th></th>\n",
       "      <th></th>\n",
       "      <th></th>\n",
       "      <th></th>\n",
       "      <th></th>\n",
       "      <th></th>\n",
       "      <th></th>\n",
       "    </tr>\n",
       "  </thead>\n",
       "  <tbody>\n",
       "    <tr>\n",
       "      <th>2</th>\n",
       "      <td>13.179920</td>\n",
       "      <td>15.839291</td>\n",
       "      <td>5.095632</td>\n",
       "      <td>8.238649</td>\n",
       "      <td>0</td>\n",
       "      <td>no_bixie</td>\n",
       "      <td>0</td>\n",
       "      <td>MR</td>\n",
       "      <td>0</td>\n",
       "      <td>n</td>\n",
       "      <td>0.094517</td>\n",
       "      <td>1.276043</td>\n",
       "      <td>0.365253</td>\n",
       "      <td>-0.027733</td>\n",
       "      <td>16.385114</td>\n",
       "    </tr>\n",
       "    <tr>\n",
       "      <th>19</th>\n",
       "      <td>1.208492</td>\n",
       "      <td>1.281362</td>\n",
       "      <td>0.068257</td>\n",
       "      <td>1.163145</td>\n",
       "      <td>0</td>\n",
       "      <td>no_bixie</td>\n",
       "      <td>0</td>\n",
       "      <td>S</td>\n",
       "      <td>0</td>\n",
       "      <td>e</td>\n",
       "      <td>0.001626</td>\n",
       "      <td>0.003101</td>\n",
       "      <td>0.002170</td>\n",
       "      <td>-0.000126</td>\n",
       "      <td>0.367817</td>\n",
       "    </tr>\n",
       "    <tr>\n",
       "      <th>21</th>\n",
       "      <td>1.670000</td>\n",
       "      <td>1.730000</td>\n",
       "      <td>0.145153</td>\n",
       "      <td>1.514667</td>\n",
       "      <td>0</td>\n",
       "      <td>no_bixie</td>\n",
       "      <td>0</td>\n",
       "      <td>NR</td>\n",
       "      <td>0</td>\n",
       "      <td>v</td>\n",
       "      <td>0.008554</td>\n",
       "      <td>0.020000</td>\n",
       "      <td>0.011845</td>\n",
       "      <td>0.000317</td>\n",
       "      <td>0.358114</td>\n",
       "    </tr>\n",
       "    <tr>\n",
       "      <th>33</th>\n",
       "      <td>1.612500</td>\n",
       "      <td>2.800000</td>\n",
       "      <td>0.447859</td>\n",
       "      <td>1.408182</td>\n",
       "      <td>0</td>\n",
       "      <td>no_bixie</td>\n",
       "      <td>0</td>\n",
       "      <td>S</td>\n",
       "      <td>0</td>\n",
       "      <td>e</td>\n",
       "      <td>0.009048</td>\n",
       "      <td>0.069412</td>\n",
       "      <td>0.022370</td>\n",
       "      <td>0.003218</td>\n",
       "      <td>0.537895</td>\n",
       "    </tr>\n",
       "    <tr>\n",
       "      <th>42</th>\n",
       "      <td>5.750000</td>\n",
       "      <td>8.110000</td>\n",
       "      <td>1.419051</td>\n",
       "      <td>4.909139</td>\n",
       "      <td>0</td>\n",
       "      <td>no_bixie</td>\n",
       "      <td>1</td>\n",
       "      <td>S</td>\n",
       "      <td>0</td>\n",
       "      <td>d</td>\n",
       "      <td>0.069643</td>\n",
       "      <td>0.488889</td>\n",
       "      <td>0.128816</td>\n",
       "      <td>0.006298</td>\n",
       "      <td>7.524767</td>\n",
       "    </tr>\n",
       "  </tbody>\n",
       "</table>\n",
       "</div>"
      ],
      "text/plain": [
       "     SpeedPct   MaxSpeed  STDSpeed  MeanSpeed  DuplcateLL    Bixies  \\\n",
       "ID                                                                    \n",
       "2   13.179920  15.839291  5.095632   8.238649           0  no_bixie   \n",
       "19   1.208492   1.281362  0.068257   1.163145           0  no_bixie   \n",
       "21   1.670000   1.730000  0.145153   1.514667           0  no_bixie   \n",
       "33   1.612500   2.800000  0.447859   1.408182           0  no_bixie   \n",
       "42   5.750000   8.110000  1.419051   4.909139           0  no_bixie   \n",
       "\n",
       "    isWeekend RushType  PTClosed City  AccelPct  MaxAccel  STDAccel  \\\n",
       "ID                                                                    \n",
       "2           0       MR         0    n  0.094517  1.276043  0.365253   \n",
       "19          0        S         0    e  0.001626  0.003101  0.002170   \n",
       "21          0       NR         0    v  0.008554  0.020000  0.011845   \n",
       "33          0        S         0    e  0.009048  0.069412  0.022370   \n",
       "42          1        S         0    d  0.069643  0.488889  0.128816   \n",
       "\n",
       "    MeanAccel  TotalDistance  \n",
       "ID                            \n",
       "2   -0.027733      16.385114  \n",
       "19  -0.000126       0.367817  \n",
       "21   0.000317       0.358114  \n",
       "33   0.003218       0.537895  \n",
       "42   0.006298       7.524767  "
      ]
     },
     "execution_count": 82,
     "metadata": {},
     "output_type": "execute_result"
    }
   ],
   "source": [
    "temp.head()"
   ]
  },
  {
   "cell_type": "code",
   "execution_count": 83,
   "metadata": {},
   "outputs": [],
   "source": [
    "temp.reset_index().to_csv('features.csv', index=False)"
   ]
  },
  {
   "cell_type": "code",
   "execution_count": 88,
   "metadata": {},
   "outputs": [],
   "source": [
    "df[['ID', 'Longitude', 'Latitude']].to_csv('raw_data.csv', index=False)"
   ]
  },
  {
   "cell_type": "code",
   "execution_count": null,
   "metadata": {},
   "outputs": [],
   "source": []
  }
 ],
 "metadata": {
  "kernelspec": {
   "display_name": "tf",
   "language": "python",
   "name": "tf"
  },
  "language_info": {
   "codemirror_mode": {
    "name": "ipython",
    "version": 3
   },
   "file_extension": ".py",
   "mimetype": "text/x-python",
   "name": "python",
   "nbconvert_exporter": "python",
   "pygments_lexer": "ipython3",
   "version": "3.6.8"
  }
 },
 "nbformat": 4,
 "nbformat_minor": 2
}
