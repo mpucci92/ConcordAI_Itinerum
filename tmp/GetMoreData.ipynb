{
 "cells": [
  {
   "cell_type": "code",
   "execution_count": 1,
   "metadata": {},
   "outputs": [],
   "source": [
    "import json\n",
    "import pandas as pd\n",
    "import numpy as np\n",
    "\n",
    "import sys, os\n",
    "\n",
    "from IPython.display import clear_output"
   ]
  },
  {
   "cell_type": "code",
   "execution_count": 4,
   "metadata": {},
   "outputs": [
    {
     "name": "stdout",
     "output_type": "stream",
     "text": [
      "2000000\n"
     ]
    }
   ],
   "source": [
    "data = []\n",
    "with open('data/points_data/points_mtl_trajet_2017/points_mtl_trajet_2017-1.geojson', 'r') as file:\n",
    "    for line in file.read().split('\\n'):\n",
    "        clear_output()\n",
    "        try:\n",
    "            data.append(json.loads(line[:-1]))\n",
    "        except Exception as e:\n",
    "            pass\n",
    "        \n",
    "        print(len(data))\n",
    "        \n",
    "        if len(data) >= 2000000:\n",
    "            break"
   ]
  },
  {
   "cell_type": "code",
   "execution_count": 6,
   "metadata": {},
   "outputs": [],
   "source": [
    "def get_col(dict_):\n",
    "    dict_ = dict_['properties']\n",
    "    try:\n",
    "        col = [dict_['id_trip'], dict_['longitude'], dict_['latitude'], (dict_['longitude'], dict_['latitude']), dict_['speed'], dict_['altitude'] if 'altitude' in dict_ else np.nan,\n",
    "               dict_['h_accuracy'], dict_['v_accuracy'], dict_['timestamp']]\n",
    "    except Exception as e:\n",
    "        print(e)\n",
    "        print(dict_)\n",
    "    return col"
   ]
  },
  {
   "cell_type": "code",
   "execution_count": 7,
   "metadata": {},
   "outputs": [],
   "source": [
    "features = [get_col(col) for col in data]"
   ]
  },
  {
   "cell_type": "code",
   "execution_count": 10,
   "metadata": {},
   "outputs": [],
   "source": [
    "np.save('more_data.npy', features)"
   ]
  },
  {
   "cell_type": "code",
   "execution_count": null,
   "metadata": {},
   "outputs": [],
   "source": []
  }
 ],
 "metadata": {
  "kernelspec": {
   "display_name": "tf",
   "language": "python",
   "name": "tf"
  },
  "language_info": {
   "codemirror_mode": {
    "name": "ipython",
    "version": 3
   },
   "file_extension": ".py",
   "mimetype": "text/x-python",
   "name": "python",
   "nbconvert_exporter": "python",
   "pygments_lexer": "ipython3",
   "version": "3.6.8"
  }
 },
 "nbformat": 4,
 "nbformat_minor": 2
}
