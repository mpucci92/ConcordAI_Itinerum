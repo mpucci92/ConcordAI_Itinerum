{
 "cells": [
  {
   "cell_type": "code",
   "execution_count": 1,
   "metadata": {},
   "outputs": [],
   "source": [
    "import pandas as pd\n",
    "import numpy as np"
   ]
  },
  {
   "cell_type": "code",
   "execution_count": 2,
   "metadata": {},
   "outputs": [],
   "source": [
    "bixi = pd.read_csv('C:\\\\Users\\\\mpucci\\\\Desktop\\\\hack\\\\Stations_2017.csv')"
   ]
  },
  {
   "cell_type": "code",
   "execution_count": 3,
   "metadata": {},
   "outputs": [],
   "source": [
    "bixi[~bixi['name'].str.contains(\"Metro\")]\n",
    "bixi = bixi[~bixi['name'].str.contains(\"Metro\")] "
   ]
  },
  {
   "cell_type": "code",
   "execution_count": 4,
   "metadata": {},
   "outputs": [],
   "source": [
    "bixi.drop(['code'], axis=1,inplace=True)"
   ]
  },
  {
   "cell_type": "code",
   "execution_count": 5,
   "metadata": {},
   "outputs": [
    {
     "name": "stdout",
     "output_type": "stream",
     "text": [
      "                                                  name   latitude  longitude\n",
      "0                                  LaSalle / 4e avenue  45.430740 -73.591911\n",
      "1                                    LaSalle / Senecal  45.434434 -73.586694\n",
      "2                                   LaSalle / Crawford  45.437914 -73.582740\n",
      "3                       Natatorium (LaSalle / Rolland)  45.444408 -73.575568\n",
      "5                                   Godin / Bannantyne  45.447554 -73.577263\n",
      "6                                      Jogues / Allard  45.449901 -73.600251\n",
      "7                                   Beatty / de Verdun  45.450730 -73.572575\n",
      "9                                  Argyle / Bannantyne  45.453246 -73.576815\n",
      "10                               5e avenue / de Verdun  45.456049 -73.571877\n",
      "11                                Hamilton / Jolicoeur  45.456355 -73.597557\n",
      "12                          West Broadway / Sherbrooke  45.456358 -73.640130\n",
      "13                              5e avenue / Bannantyne  45.456365 -73.576140\n",
      "15                                      Eadie / Dubois  45.457597 -73.590529\n",
      "16                              2e avenue / Wellington  45.457894 -73.567528\n",
      "17                                Belmore / Sherbrooke  45.459233 -73.637405\n",
      "19                       Berlioz / de l'Île des Soeurs  45.459986 -73.543956\n",
      "20                             Park Row O / Sherbrooke  45.460729 -73.634073\n",
      "21                                 Gordon / Wellington  45.461078 -73.567307\n",
      "22                           Le Caron / Marc-Sauvalle   45.461685 -73.584039\n",
      "23                                   Briand / le Caron  45.462362 -73.596650\n",
      "24                                  Ross / de l'Église  45.462742 -73.565845\n",
      "25                             de l'Église / de Verdun  45.463001 -73.571569\n",
      "26                            de l'Église / Bannantyne  45.463254 -73.575879\n",
      "27                              Benny Crescent / Benny  45.464315 -73.625570\n",
      "28                        Grand Boulevard / Sherbrooke  45.466569 -73.623295\n",
      "29                                 Benny / de Monkland  45.466914 -73.631704\n",
      "30                                   Place du Commerce  45.467140 -73.542590\n",
      "31                                  Regina / de Verdun  45.467369 -73.570769\n",
      "32                          Cote St-Paul / St-Ambroise  45.467666 -73.593918\n",
      "33                             de Clifton / Sherbrooke  45.469046 -73.618575\n",
      "..                                                 ...        ...        ...\n",
      "513                                   Ontario / Sicard  45.556262 -73.537441\n",
      "514                            Basile-Routhier / Gouin  45.556562 -73.670115\n",
      "515                            12e avenue / St-Zotique  45.556905 -73.589250\n",
      "516                                 d'Orleans / Masson  45.557192 -73.569847\n",
      "517                              18e avenue / Rosemont  45.557895 -73.576529\n",
      "518                        Ville-Marie / Ste-Catherine  45.557921 -73.529147\n",
      "519                              16e avenue / Beaubien  45.558460 -73.583430\n",
      "520                               de la Roche / Fleury  45.559000 -73.658414\n",
      "521                         Pierre-de-Coubertin / Aird  45.559018 -73.548481\n",
      "523                                     Ontario / Viau  45.559482 -73.535496\n",
      "524                      Paul Boutet / des Regrattiers  45.559842 -73.615447\n",
      "525                                      Hamel / Sauve  45.560742 -73.650410\n",
      "526                    François-Perrault / L.-O.-David  45.561300 -73.601430\n",
      "527                            19e avenue / St-Zotique  45.561594 -73.585643\n",
      "528                CHSLD St-Michel (Jarry / 8e avenue)  45.561690 -73.610512\n",
      "529                                de Marseille / Viau  45.563921 -73.548912\n",
      "530                                   Francis / Fleury  45.563947 -73.655573\n",
      "531                              28e avenue / Rosemont  45.564353 -73.571244\n",
      "532                              26e avenue / Beaubien  45.564944 -73.577639\n",
      "533                                 Marquette / Fleury  45.567352 -73.653787\n",
      "534                            30e avenue / St-Zotique  45.568225 -73.579436\n",
      "535                         Chauveau / de l'Assomption  45.569789 -73.548081\n",
      "536                              35e avenue / Beaubien  45.570081 -73.573047\n",
      "537               Pierre-de-Coubertin / Louis-Veuillot  45.572789 -73.540313\n",
      "538                            St-Zotique / 39e avenue  45.573541 -73.574923\n",
      "539  CHSLD Benjamin-Victor-Rousselot (Dickson / She...  45.573798 -73.550345\n",
      "540  Hôpital Maisonneuve-Rosemont (Rosemont / Chate...  45.575707 -73.561562\n",
      "541  CHSLD Éloria-Lepage (de la Pepinière / de Mars...  45.576944 -73.540453\n",
      "543  Hôpital Santa Cabrini (St-Zotique / Jeanne-Jugan)  45.579325 -73.570504\n",
      "544                         de Repentigny / Sherbrooke  45.580770 -73.544766\n",
      "\n",
      "[512 rows x 3 columns]\n"
     ]
    }
   ],
   "source": [
    "print(bixi)"
   ]
  },
  {
   "cell_type": "code",
   "execution_count": null,
   "metadata": {},
   "outputs": [],
   "source": []
  }
 ],
 "metadata": {
  "kernelspec": {
   "display_name": "Python 3",
   "language": "python",
   "name": "python3"
  },
  "language_info": {
   "codemirror_mode": {
    "name": "ipython",
    "version": 3
   },
   "file_extension": ".py",
   "mimetype": "text/x-python",
   "name": "python",
   "nbconvert_exporter": "python",
   "pygments_lexer": "ipython3",
   "version": "3.7.1"
  }
 },
 "nbformat": 4,
 "nbformat_minor": 2
}
