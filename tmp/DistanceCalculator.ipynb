{
 "cells": [
  {
   "cell_type": "code",
   "execution_count": 16,
   "metadata": {},
   "outputs": [],
   "source": [
    "from math import sin, cos, sqrt, atan2, radians\n",
    "\n",
    "#Lat1 - Starting latitude \n",
    "#lon1 - Starting Longitude\n",
    "\n",
    "#lat2 - End Latitude\n",
    "#lon2 - End longitude\n",
    "\n",
    "def CalculatorDistance(lat1,lon1,lat2,lon2):\n",
    "    # approximate radius of earth in km\n",
    "    R = 6378.1\n",
    "\n",
    "    lat_rad1 = radians(lat1)\n",
    "    lon_rad1 = radians(lon1)\n",
    "    lat_rad2 = radians(lat2)\n",
    "    lon_rad2 = radians(lon2)\n",
    "\n",
    "    dlon = lon_rad2 - lon_rad1\n",
    "    dlat = lat_rad2 - lat_rad1\n",
    "\n",
    "    a = sin(dlat / 2)**2 + cos(lat_rad1) * cos(lat_rad2) * sin(dlon / 2)**2\n",
    "    c = 2 * atan2(sqrt(a), sqrt(1 - a))\n",
    "\n",
    "    distance = R * c\n",
    "\n",
    "    return (print(distance))\n",
    "\n",
    "## Distance is in KMs Final Answer"
   ]
  },
  {
   "cell_type": "code",
   "execution_count": 17,
   "metadata": {},
   "outputs": [
    {
     "name": "stdout",
     "output_type": "stream",
     "text": [
      "278.76849575396835\n"
     ]
    }
   ],
   "source": [
    "CalculatorDistance(52.2296756,21.0122287,52.406374,16.9251681)"
   ]
  },
  {
   "cell_type": "code",
   "execution_count": null,
   "metadata": {},
   "outputs": [],
   "source": []
  }
 ],
 "metadata": {
  "kernelspec": {
   "display_name": "Python 3",
   "language": "python",
   "name": "python3"
  },
  "language_info": {
   "codemirror_mode": {
    "name": "ipython",
    "version": 3
   },
   "file_extension": ".py",
   "mimetype": "text/x-python",
   "name": "python",
   "nbconvert_exporter": "python",
   "pygments_lexer": "ipython3",
   "version": "3.6.8"
  }
 },
 "nbformat": 4,
 "nbformat_minor": 2
}
