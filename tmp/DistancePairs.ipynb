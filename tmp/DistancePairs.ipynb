{
 "cells": [
  {
   "cell_type": "code",
   "execution_count": 1,
   "metadata": {},
   "outputs": [],
   "source": [
    "import pandas as pd\n",
    "import numpy as np\n"
   ]
  },
  {
   "cell_type": "code",
   "execution_count": 2,
   "metadata": {},
   "outputs": [],
   "source": [
    "df = pd.read_csv('C:\\\\Users\\\\mpucci\\\\Desktop\\\\hack\\\\reduced_data.csv')"
   ]
  },
  {
   "cell_type": "code",
   "execution_count": 18,
   "metadata": {},
   "outputs": [
    {
     "data": {
      "text/plain": [
       "(10000, 10)"
      ]
     },
     "execution_count": 18,
     "metadata": {},
     "output_type": "execute_result"
    }
   ],
   "source": [
    "df.shape"
   ]
  },
  {
   "cell_type": "code",
   "execution_count": 11,
   "metadata": {},
   "outputs": [],
   "source": [
    "from math import sin, cos, sqrt, atan2, radians\n",
    "\n",
    "#Lat1 - Starting latitude \n",
    "#lon1 - Starting Longitude\n",
    "\n",
    "#lat2 - End Latitude\n",
    "#lon2 - End longitude\n",
    "\n",
    "def CalculatorDistance(lon1,lat1,lon2,lat2):\n",
    "    # approximate radius of earth in km\n",
    "    R = 6378.1\n",
    "\n",
    "    lat_rad1 = radians(lat1)\n",
    "    lon_rad1 = radians(lon1)\n",
    "    lat_rad2 = radians(lat2)\n",
    "    lon_rad2 = radians(lon2)\n",
    "\n",
    "    dlon = lon_rad2 - lon_rad1\n",
    "    dlat = lat_rad2 - lat_rad1\n",
    "\n",
    "    a = sin(dlat / 2)**2 + cos(lat_rad1) * cos(lat_rad2) * sin(dlon / 2)**2\n",
    "    c = 2 * atan2(sqrt(a), sqrt(1 - a))\n",
    "\n",
    "    distance = R * c\n",
    "\n",
    "    return ((distance))\n",
    "\n",
    "## Distance is in KMs Final Answer"
   ]
  },
  {
   "cell_type": "code",
   "execution_count": 12,
   "metadata": {},
   "outputs": [],
   "source": [
    "list1 = df.Longitude"
   ]
  },
  {
   "cell_type": "code",
   "execution_count": 13,
   "metadata": {},
   "outputs": [],
   "source": [
    "list2 = df.Latitude"
   ]
  },
  {
   "cell_type": "code",
   "execution_count": 14,
   "metadata": {},
   "outputs": [],
   "source": [
    "zipped = list(zip(list1,list2))"
   ]
  },
  {
   "cell_type": "code",
   "execution_count": 23,
   "metadata": {},
   "outputs": [],
   "source": [
    "array = []\n",
    "for i in range(len(list1)):\n",
    "    if i !=9999:\n",
    "        val = zipped[i][0]\n",
    "        val1 = zipped[i][1]\n",
    "        val2 = zipped[i+1][0]\n",
    "        val3 = zipped[i+1][1]\n",
    "        val4 = CalculatorDistance(val,val1,val2,val3)\n",
    "        array.append(val4)\n",
    "\n"
   ]
  },
  {
   "cell_type": "code",
   "execution_count": 25,
   "metadata": {},
   "outputs": [],
   "source": [
    "array.insert(0, -1)"
   ]
  },
  {
   "cell_type": "code",
   "execution_count": 26,
   "metadata": {},
   "outputs": [],
   "source": [
    "df['Distance'] = array"
   ]
  },
  {
   "cell_type": "code",
   "execution_count": null,
   "metadata": {},
   "outputs": [],
   "source": []
  }
 ],
 "metadata": {
  "kernelspec": {
   "display_name": "Python 3",
   "language": "python",
   "name": "python3"
  },
  "language_info": {
   "codemirror_mode": {
    "name": "ipython",
    "version": 3
   },
   "file_extension": ".py",
   "mimetype": "text/x-python",
   "name": "python",
   "nbconvert_exporter": "python",
   "pygments_lexer": "ipython3",
   "version": "3.6.8"
  }
 },
 "nbformat": 4,
 "nbformat_minor": 2
}
